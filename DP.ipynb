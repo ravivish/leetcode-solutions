{
 "cells": [
  {
   "cell_type": "markdown",
   "metadata": {},
   "source": [
    "[D. Kousuke's Assignment DP Codeforces](https://codeforces.com/problemset/problem/2033/D)"
   ]
  },
  {
   "cell_type": "code",
   "execution_count": null,
   "metadata": {
    "dotnet_interactive": {
     "language": "csharp"
    },
    "polyglot_notebook": {
     "kernelName": "csharp"
    },
    "vscode": {
     "languageId": "polyglot-notebook"
    }
   },
   "outputs": [],
   "source": [
    "public static List<int> MaxBeautifulSegments(int t, List<Tuple<int, int[]>> testCases) \n",
    "{\n",
    "    List<int> results = new List<int>();\n",
    "\n",
    "    foreach (var testCase in testCases) {\n",
    "        int n = testCase.Item1;\n",
    "        int[] array = testCase.Item2;\n",
    "\n",
    "        // Dictionary to store prefix sums and their latest index\n",
    "        Dictionary<int, int> seenPrefixSums = new Dictionary<int, int> { { 0, -1 } };\n",
    "        int prefixSum = 0;\n",
    "        int beautifulCount = 0;\n",
    "\n",
    "        for (int i = 0; i < n; i++) {\n",
    "            prefixSum += array[i];\n",
    "\n",
    "            if (seenPrefixSums.ContainsKey(prefixSum)) {\n",
    "                // Found a zero-sum segment, increase count\n",
    "                beautifulCount++;\n",
    "                \n",
    "                // Reset dictionary and prefix sum to start fresh from the current index\n",
    "                seenPrefixSums.Clear();\n",
    "                seenPrefixSums[0] = i;\n",
    "                prefixSum = 0;\n",
    "            } else {\n",
    "                // Store the current prefix sum in the dictionary\n",
    "                seenPrefixSums[prefixSum] = i;\n",
    "            }\n",
    "        }\n",
    "\n",
    "        results.Add(beautifulCount);\n",
    "    }\n",
    "\n",
    "    return results;\n",
    "}\n",
    "\n",
    "public static void MainInput() \n",
    "{\n",
    "    int t = int.Parse(Console.ReadLine());\n",
    "    List<Tuple<int, int[]>> testCases = new List<Tuple<int, int[]>>();\n",
    "\n",
    "    for (int i = 0; i < t; i++) {\n",
    "        int n = int.Parse(Console.ReadLine());\n",
    "        int[] array = Array.ConvertAll(Console.ReadLine().Split(), int.Parse);\n",
    "        testCases.Add(new Tuple<int, int[]>(n, array));\n",
    "    }\n",
    "\n",
    "    List<int> results = MaxBeautifulSegments(t, testCases);\n",
    "    foreach (int result in results) {\n",
    "        Console.WriteLine(result);\n",
    "    }\n",
    "}\n",
    "MainInput();"
   ]
  }
 ],
 "metadata": {
  "kernelspec": {
   "display_name": ".NET (C#)",
   "language": "C#",
   "name": ".net-csharp"
  },
  "language_info": {
   "name": "python"
  },
  "polyglot_notebook": {
   "kernelInfo": {
    "defaultKernelName": "csharp",
    "items": [
     {
      "aliases": [],
      "name": "csharp"
     }
    ]
   }
  }
 },
 "nbformat": 4,
 "nbformat_minor": 2
}
