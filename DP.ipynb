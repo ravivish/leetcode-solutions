{
 "cells": [
  {
   "cell_type": "markdown",
   "metadata": {},
   "source": [
    "Problem Link: [D. Kousuke's Assignment DP Codeforces](https://codeforces.com/problemset/problem/2033/D)"
   ]
  },
  {
   "cell_type": "code",
   "execution_count": null,
   "metadata": {
    "dotnet_interactive": {
     "language": "csharp"
    },
    "polyglot_notebook": {
     "kernelName": "csharp"
    },
    "vscode": {
     "languageId": "polyglot-notebook"
    }
   },
   "outputs": [],
   "source": [
    "public static List<int> MaxBeautifulSegments(int t, List<Tuple<int, int[]>> testCases) \n",
    "{\n",
    "    List<int> results = new List<int>();\n",
    "\n",
    "    foreach (var testCase in testCases) {\n",
    "        int n = testCase.Item1;\n",
    "        int[] array = testCase.Item2;\n",
    "\n",
    "        // Dictionary to store prefix sums and their latest index\n",
    "        Dictionary<int, int> seenPrefixSums = new Dictionary<int, int> { { 0, -1 } };\n",
    "        int prefixSum = 0;\n",
    "        int beautifulCount = 0;\n",
    "\n",
    "        for (int i = 0; i < n; i++) {\n",
    "            prefixSum += array[i];\n",
    "\n",
    "            if (seenPrefixSums.ContainsKey(prefixSum)) {\n",
    "                // Found a zero-sum segment, increase count\n",
    "                beautifulCount++;\n",
    "                \n",
    "                // Reset dictionary and prefix sum to start fresh from the current index\n",
    "                seenPrefixSums.Clear();\n",
    "                seenPrefixSums[0] = i;\n",
    "                prefixSum = 0;\n",
    "            } else {\n",
    "                // Store the current prefix sum in the dictionary\n",
    "                seenPrefixSums[prefixSum] = i;\n",
    "            }\n",
    "        }\n",
    "\n",
    "        results.Add(beautifulCount);\n",
    "    }\n",
    "\n",
    "    return results;\n",
    "}\n",
    "\n",
    "public static void MainInput() \n",
    "{\n",
    "    int t = int.Parse(Console.ReadLine());\n",
    "    List<Tuple<int, int[]>> testCases = new List<Tuple<int, int[]>>();\n",
    "\n",
    "    for (int i = 0; i < t; i++) {\n",
    "        int n = int.Parse(Console.ReadLine());\n",
    "        int[] array = Array.ConvertAll(Console.ReadLine().Split(), int.Parse);\n",
    "        testCases.Add(new Tuple<int, int[]>(n, array));\n",
    "    }\n",
    "\n",
    "    List<int> results = MaxBeautifulSegments(t, testCases);\n",
    "    foreach (int result in results) {\n",
    "        Console.WriteLine(result);\n",
    "    }\n",
    "}\n",
    "MainInput();"
   ]
  },
  {
   "cell_type": "markdown",
   "metadata": {},
   "source": [
    "[64. Minimum Path Sum](https://leetcode.com/problems/minimum-path-sum/description/?envType=problem-list-v2&envId=55ac4kuc)"
   ]
  },
  {
   "cell_type": "code",
   "execution_count": null,
   "metadata": {
    "dotnet_interactive": {
     "language": "csharp"
    },
    "polyglot_notebook": {
     "kernelName": "csharp"
    },
    "vscode": {
     "languageId": "polyglot-notebook"
    }
   },
   "outputs": [],
   "source": [
    " public int MinPathSum(int[][] grid) \n",
    "{\n",
    "    int m = grid.Length, n = grid[0].Length;\n",
    "    int[][] dp = new int[m][]; //2d jagged array\n",
    "\n",
    "    // Initialize each row with 'n' columns\n",
    "    for (int i = 0; i < m; i++)\n",
    "    {\n",
    "        dp[i] = new int[n];\n",
    "        Array.Fill(dp[i],-1); //Fill array with -1\n",
    "    }\n",
    "    return helper(grid,m-1,n-1,dp);\n",
    "}\n",
    "int helper(int[][] grid,int m , int n,int[][] dp)\n",
    "{\n",
    "    \n",
    "    if (m < 0 || n < 0)\n",
    "    {\n",
    "        return int.MaxValue;\n",
    "    }\n",
    "    if (m == 0 && n == 0)\n",
    "    {\n",
    "        return grid[0][0];\n",
    "    }\n",
    "\n",
    "    if (dp[m][n] != -1) return dp[m][n];\n",
    "\n",
    "    int left = helper(grid,m-1,n,dp);\n",
    "\n",
    "    int right = helper(grid,m,n-1,dp);\n",
    "\n",
    "    return dp[m][n] = grid[m][n] + Math.Min(left, right);\n",
    "}\n",
    "\n",
    "int[][] grid = { new[] { 1, 3, 1 }, new[] { 1, 5, 1 }, new[] { 4, 2, 1 } };;\n",
    "Console.WriteLine(MinPathSum(grid));"
   ]
  },
  {
   "cell_type": "markdown",
   "metadata": {},
   "source": [
    "[877. Stone Game](https://leetcode.com/problems/stone-game/description/?envType=problem-list-v2&envId=x1k8lxi5)"
   ]
  },
  {
   "cell_type": "code",
   "execution_count": null,
   "metadata": {
    "dotnet_interactive": {
     "language": "csharp"
    },
    "polyglot_notebook": {
     "kernelName": "csharp"
    },
    "vscode": {
     "languageId": "polyglot-notebook"
    }
   },
   "outputs": [],
   "source": [
    "public bool StoneGame(int[] piles) {\n",
    "        int n = piles.Length;\n",
    "        \n",
    "        // Initialize a 2D DP array\n",
    "        int[,] dp = new int[n, n];\n",
    "        \n",
    "        // Base case: When there's only one pile, the score difference is just the value of that pile\n",
    "        for (int i = 0; i < n; i++) {\n",
    "            dp[i, i] = piles[i];\n",
    "        }\n",
    "        \n",
    "        // Fill the DP table using the recurrence relation\n",
    "        for (int length = 2; length <= n; length++) {\n",
    "            for (int i = 0; i <= n - length; i++) {\n",
    "                int j = i + length - 1;\n",
    "                dp[i, j] = Math.Max(piles[i] - dp[i + 1, j], piles[j] - dp[i, j - 1]);\n",
    "            }\n",
    "        }\n",
    "        \n",
    "        // If Alice's optimal score is positive, she wins\n",
    "        return dp[0, n - 1] > 0;\n",
    "    }\n",
    "// int[] piles = { 5, 3, 4, 5 };\n",
    "int[] piles = {3,7,2,3};\n",
    "Console.WriteLine(StoneGame(piles));"
   ]
  },
  {
   "cell_type": "markdown",
   "metadata": {},
   "source": [
    "[983. Minimum Cost For Tickets](https://leetcode.com/problems/minimum-cost-for-tickets/description/?envType=problem-list-v2&envId=x1k8lxi5)"
   ]
  },
  {
   "cell_type": "code",
   "execution_count": null,
   "metadata": {
    "dotnet_interactive": {
     "language": "csharp"
    },
    "polyglot_notebook": {
     "kernelName": "csharp"
    },
    "vscode": {
     "languageId": "polyglot-notebook"
    }
   },
   "outputs": [],
   "source": [
    "public int MincostTickets(int[] days, int[] costs) {\n",
    "        int n = days.Length;\n",
    "        int lastDay = days[n - 1];\n",
    "        int[] dp = new int[lastDay + 1];\n",
    "\n",
    "        HashSet<int> travelDays = new HashSet<int>(days);\n",
    "\n",
    "        for (int i = 1; i <= lastDay; i++) {\n",
    "            if (!travelDays.Contains(i)) {\n",
    "                dp[i] = dp[i - 1];\n",
    "            } else {\n",
    "                dp[i] = Math.Min(dp[i - 1] + costs[0],  // 1-day pass\n",
    "                         Math.Min(dp[Math.Max(0, i - 7)] + costs[1],  // 7-day pass\n",
    "                                  dp[Math.Max(0, i - 30)] + costs[2])); // 30-day pass\n",
    "            }\n",
    "        }\n",
    "\n",
    "        return dp[lastDay];\n",
    "    }\n",
    "// int[] days = { 1,4,6,7,8,20 };\n",
    "// int[] costs = {2,7,15};\n",
    "// Console.WriteLine(MincostTickets(days, costs)); // 11\n",
    "int[] days = { 1,2,3,4,5,6,7,8,9,10,30,31 };\n",
    "int[] costs = {2,7,15};\n",
    "Console.WriteLine(MincostTickets(days, costs)); // 17\n",
    "\n"
   ]
  },
  {
   "cell_type": "markdown",
   "metadata": {
    "tags": [
     "parameters"
    ]
   },
   "source": [
    "[1049. Last Stone Weight II](https://leetcode.com/problems/last-stone-weight-ii/?envType=problem-list-v2&envId=a8r7p8ag)"
   ]
  },
  {
   "cell_type": "code",
   "execution_count": null,
   "metadata": {
    "dotnet_interactive": {
     "language": "csharp"
    },
    "polyglot_notebook": {
     "kernelName": "csharp"
    },
    "vscode": {
     "languageId": "polyglot-notebook"
    }
   },
   "outputs": [],
   "source": [
    "public int LastStoneWeightII(int[] stones) \n",
    "{\n",
    "    int n = stones.Length;\n",
    "    int sum = stones.Sum();\n",
    "    int target = sum / 2;\n",
    "    int[] dp = new int[target + 1];\n",
    "\n",
    "    for (int i = 0; i < n; i++)\n",
    "    {\n",
    "        for (int j = target; j >= stones[i]; j--)\n",
    "        {\n",
    "            dp[j] = Math.Max(dp[j], dp[j - stones[i]] + stones[i]);\n",
    "        }\n",
    "    }\n",
    "\n",
    "    return sum - 2 * dp[target];\n",
    "}\n",
    "\n",
    "Console.WriteLine(LastStoneWeightII(new int[] { 2,7,4,1,8,1 }));\n",
    "Console.WriteLine(LastStoneWeightII(new int[] { 31,26,33,21,40 }));"
   ]
  },
  {
   "cell_type": "markdown",
   "metadata": {},
   "source": [
    "[120. Triangle](https://leetcode.com/problems/triangle/description/?envType=problem-list-v2&envId=a8r7p8ag)"
   ]
  },
  {
   "cell_type": "code",
   "execution_count": null,
   "metadata": {
    "dotnet_interactive": {
     "language": "csharp"
    },
    "polyglot_notebook": {
     "kernelName": "csharp"
    },
    "vscode": {
     "languageId": "polyglot-notebook"
    }
   },
   "outputs": [],
   "source": [
    "public int MinimumTotal(IList<IList<int>> triangle)\n",
    "{\n",
    "    int n = triangle.Count;\n",
    "    int[] dp = new int[n];\n",
    "\n",
    "    for (int i = n - 1; i >= 0; i--)\n",
    "    {\n",
    "        for (int j = 0; j < triangle[i].Count; j++)\n",
    "        {\n",
    "            if (i == n - 1)\n",
    "            {\n",
    "                dp[j] = triangle[i][j];\n",
    "            }\n",
    "            else\n",
    "            {\n",
    "                dp[j] = Math.Min(dp[j], dp[j + 1]) + triangle[i][j];\n",
    "            }\n",
    "        }\n",
    "    }\n",
    "\n",
    "    return dp[0];\n",
    "}\n",
    "\n",
    "//calling code\n",
    "int[][] triangle = { new[] { 2 }, new[] { 3, 4 }, new[] { 6, 5, 7 }, new[] { 4, 1, 8, 3 } };\n",
    "\n",
    "Console.WriteLine(MinimumTotal(triangle));\n",
    "\n",
    "//another input\n",
    "int[][] triangle2 = { new[] { -10 }, new[] { 9, 20 }, new[] { 15, 18, 7 }, new[] { 20, 13, 19, -16 } };\n",
    "\n",
    "Console.WriteLine(MinimumTotal(triangle2));"
   ]
  },
  {
   "cell_type": "markdown",
   "metadata": {},
   "source": [
    "[474. Ones and Zeros](https://leetcode.com/problems/ones-and-zeroes/?envType=problem-list-v2&envId=a8r7p8ag)"
   ]
  },
  {
   "cell_type": "code",
   "execution_count": null,
   "metadata": {
    "dotnet_interactive": {
     "language": "csharp"
    },
    "polyglot_notebook": {
     "kernelName": "csharp"
    },
    "vscode": {
     "languageId": "polyglot-notebook"
    }
   },
   "outputs": [],
   "source": [
    "public int FindMaxForm(string[] strs, int m, int n)\n",
    "{\n",
    "    int[,] dp = new int[m + 1, n + 1];\n",
    "\n",
    "    foreach (string str in strs)\n",
    "    {\n",
    "        int ones = str.Count(c => c == '1');\n",
    "        int zeros = str.Count(c => c == '0');\n",
    "\n",
    "        for (int i = m; i >= zeros; i--)\n",
    "        {\n",
    "            for (int j = n; j >= ones; j--)\n",
    "            {\n",
    "                dp[i, j] = Math.Max(dp[i, j], dp[i - zeros, j - ones] + 1);\n",
    "            }\n",
    "        }\n",
    "    }\n",
    "\n",
    "    return dp[m, n];\n",
    "}\n",
    "\n",
    "//calling code\n",
    "string[] strs = { \"10\", \"0001\", \"111001\", \"1\", \"0\" };\n",
    "int m = 5;\n",
    "int n = 3;\n",
    "Console.WriteLine(FindMaxForm(strs, m, n));"
   ]
  },
  {
   "cell_type": "markdown",
   "metadata": {},
   "source": [
    "[221. Maximal Square](https://leetcode.com/problems/maximal-square/description/?envType=problem-list-v2&envId=a8r7p8ag)"
   ]
  },
  {
   "cell_type": "code",
   "execution_count": null,
   "metadata": {
    "dotnet_interactive": {
     "language": "csharp"
    },
    "polyglot_notebook": {
     "kernelName": "csharp"
    },
    "vscode": {
     "languageId": "polyglot-notebook"
    }
   },
   "outputs": [],
   "source": [
    "public int MaximalSquare(char[][] matrix)\n",
    "{\n",
    "    int m = matrix.Length;\n",
    "    int n = matrix[0].Length;\n",
    "    int[,] dp = new int[m + 1, n + 1];\n",
    "\n",
    "    int maxSide = 0;    // Maximum side length of the square\n",
    "\n",
    "        for (int i = 1; i <= m; i++)\n",
    "        {\n",
    "            for (int j = 1; j <= n; j++)\n",
    "            {\n",
    "                if (matrix[i - 1][j - 1] == '1')\n",
    "                {\n",
    "                    dp[i, j] = Math.Min(Math.Min(dp[i - 1, j], dp[i, j - 1]), dp[i - 1, j - 1]) + 1;\n",
    "                    maxSide = Math.Max(maxSide, dp[i, j]);\n",
    "                }\n",
    "            }\n",
    "        }\n",
    "\n",
    "        return maxSide * maxSide;\n",
    "}\n",
    "\n",
    "//calling code\n",
    "char[][] matrix = { new[] { '1', '0', '1', '0', '0' }, new[] { '1', '0', '1', '1', '1' }, new[] { '1', '1', '1', '1', '1' }, new[] { '1', '0', '0', '1', '0' } };\n",
    "Console.WriteLine(MaximalSquare(matrix));"
   ]
  },
  {
   "cell_type": "markdown",
   "metadata": {},
   "source": [
    "[174. Dungeon Game](https://leetcode.com/problems/dungeon-game/description/?envType=problem-list-v2&envId=a8r7p8ag)"
   ]
  },
  {
   "cell_type": "code",
   "execution_count": null,
   "metadata": {
    "dotnet_interactive": {
     "language": "csharp"
    },
    "polyglot_notebook": {
     "kernelName": "csharp"
    },
    "vscode": {
     "languageId": "polyglot-notebook"
    }
   },
   "outputs": [],
   "source": [
    "public int CalculateMinimumHP(int[][] dungeon)\n",
    "{\n",
    "    int m = dungeon.Length;\n",
    "    int n = dungeon[0].Length;\n",
    "    int[,] dp = new int[m, n];\n",
    "\n",
    "    // Initialize the minimum health required for the bottom-right cell to be 1\n",
    "    dp[m - 1, n - 1] = Math.Max(1 - dungeon[m - 1][n - 1], 1);\n",
    "\n",
    "    // Fill the DP table in reverse order   \n",
    "    for (int i = m - 2; i >= 0; i--)\n",
    "    {\n",
    "        for (int j = n - 2; j >= 0; j--)\n",
    "        {\n",
    "            int minHealth = Math.Min(dp[i + 1, j], dp[i, j + 1]);\n",
    "            dp[i, j] = Math.Max(minHealth - dungeon[i][j], 1);\n",
    "        }\n",
    "    }\n",
    "\n",
    "    return dp[0, 0];\n",
    "}\n",
    "\n",
    "//calling code\n",
    "// int[][] dungeon = { new[] { -3, 5 }, new[] { 2, -3 } };\n",
    "int[][] dungeon = [[-2,-3,3],[-5,-10,1],[10,30,-5]];\n",
    "Console.WriteLine(CalculateMinimumHP(dungeon));"
   ]
  },
  {
   "cell_type": "markdown",
   "metadata": {},
   "source": [
    "### [Cutting Rod](https://www.geeksforgeeks.org/problems/rod-cutting0840/1?itm_source=geeksforgeeks&itm_medium=article&itm_campaign=practice_card)"
   ]
  },
  {
   "cell_type": "code",
   "execution_count": null,
   "metadata": {
    "dotnet_interactive": {
     "language": "csharp"
    },
    "polyglot_notebook": {
     "kernelName": "csharp"
    },
    "vscode": {
     "languageId": "polyglot-notebook"
    }
   },
   "outputs": [],
   "source": [
    "//Recursive Memoized Solution\n",
    "int HelperMemoized(int ind, int N, int[] prices, int[][] dp)\n",
    "{\n",
    "    if (ind == 0) return N * prices[0];\n",
    "\n",
    "    if (dp[ind][N] != -1) return dp[ind][N];\n",
    "\n",
    "    int notTake = 0 + HelperMemoized(ind -1, N, prices,dp);\n",
    "    int take = int.MinValue;\n",
    "    int rodLen = ind +1;\n",
    "    if (rodLen <= N)\n",
    "        take = prices[ind] + HelperMemoized(ind,N-rodLen,prices,dp);\n",
    "    \n",
    "    return dp[ind][N] = Math.Max(take,notTake);\n",
    "\n",
    "}\n",
    "\n",
    "//Wrong Ans\n",
    "//BottonmUp \n",
    "int HelperBottomUp(int[] prices, int n, int[][] dp)\n",
    "{    \n",
    "\n",
    "    //base case \n",
    "    for (int i=0;i<n;i++)\n",
    "        dp[0][i] = i * prices[0];\n",
    "    \n",
    "    for (int ind = 1; ind < n; ind++)\n",
    "    {\n",
    "        for (int N = 0; N <= n; N++)\n",
    "        {\n",
    "            int notTake = 0 + dp[ind -1][N];\n",
    "            int take = int.MinValue;\n",
    "            int rodLen = ind + 1;\n",
    "            if (rodLen <= N) {\n",
    "                take = prices[ind] + dp[ind][N-rodLen];                \n",
    "            }\n",
    "            \n",
    "            dp[ind][N] =  Math.Max(take,notTake);\n",
    "        }\n",
    "    }\n",
    "    return dp[n-1][n];\n",
    "}\n",
    "\n",
    "int CuttingRod(int[] prices)\n",
    "{\n",
    "    int n = prices.Length;\n",
    "    int[][] dp = new int[n+1][];\n",
    "    for (int i=0;i<n;i++)\n",
    "        dp[i] = Enumerable.Repeat(-1,n+1).ToArray<int>();\n",
    "\n",
    "    return HelperMemoized(n-1,n,prices,dp);\n",
    "    // return HelperBottomUp(prices,n,dp);\n",
    "}\n",
    "\n",
    "\n",
    "\n",
    "//1-d Solution optimized\n",
    "int CuttingRod_1D(int[] prices) {\n",
    "    int n = prices.Length;\n",
    "    int[] dp = new int[n + 1];\n",
    "    dp[0] = 0;\n",
    "    \n",
    "    for (int i = 1; i <= n; i++) {\n",
    "        int max = 0;\n",
    "        for (int j = 0; j < i; j++) {\n",
    "            max = Math.Max(max, prices[j] + dp[i - j - 1]);\n",
    "        }\n",
    "        dp[i] = max;\n",
    "    }\n",
    "    \n",
    "    return dp[n];\n",
    "}\n",
    "\n",
    "//calling code\n",
    "Console.WriteLine(CuttingRod([2,5,7,8,10])); //12\n",
    "Console.WriteLine(CuttingRod([1, 5, 8, 9, 10, 17, 17, 20])); //22\n",
    "Console.WriteLine(CuttingRod([3, 5, 8, 9, 10, 17, 17, 20])); //24\n",
    "Console.WriteLine(CuttingRod([1, 10, 3, 1, 3, 1, 5, 9])); //40\n",
    "\n"
   ]
  }
 ],
 "metadata": {
  "kernelspec": {
   "display_name": ".NET (C#)",
   "language": "C#",
   "name": ".net-csharp"
  },
  "language_info": {
   "name": "python"
  },
  "polyglot_notebook": {
   "kernelInfo": {
    "defaultKernelName": "csharp",
    "items": [
     {
      "aliases": [],
      "name": "csharp"
     }
    ]
   }
  }
 },
 "nbformat": 4,
 "nbformat_minor": 2
}
