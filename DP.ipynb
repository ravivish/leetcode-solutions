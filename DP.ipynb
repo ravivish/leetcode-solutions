{
 "cells": [
  {
   "cell_type": "markdown",
   "metadata": {},
   "source": [
    "Problem Link: [D. Kousuke's Assignment DP Codeforces](https://codeforces.com/problemset/problem/2033/D)"
   ]
  },
  {
   "cell_type": "code",
   "execution_count": null,
   "metadata": {
    "dotnet_interactive": {
     "language": "csharp"
    },
    "polyglot_notebook": {
     "kernelName": "csharp"
    },
    "vscode": {
     "languageId": "polyglot-notebook"
    }
   },
   "outputs": [],
   "source": [
    "public static List<int> MaxBeautifulSegments(int t, List<Tuple<int, int[]>> testCases) \n",
    "{\n",
    "    List<int> results = new List<int>();\n",
    "\n",
    "    foreach (var testCase in testCases) {\n",
    "        int n = testCase.Item1;\n",
    "        int[] array = testCase.Item2;\n",
    "\n",
    "        // Dictionary to store prefix sums and their latest index\n",
    "        Dictionary<int, int> seenPrefixSums = new Dictionary<int, int> { { 0, -1 } };\n",
    "        int prefixSum = 0;\n",
    "        int beautifulCount = 0;\n",
    "\n",
    "        for (int i = 0; i < n; i++) {\n",
    "            prefixSum += array[i];\n",
    "\n",
    "            if (seenPrefixSums.ContainsKey(prefixSum)) {\n",
    "                // Found a zero-sum segment, increase count\n",
    "                beautifulCount++;\n",
    "                \n",
    "                // Reset dictionary and prefix sum to start fresh from the current index\n",
    "                seenPrefixSums.Clear();\n",
    "                seenPrefixSums[0] = i;\n",
    "                prefixSum = 0;\n",
    "            } else {\n",
    "                // Store the current prefix sum in the dictionary\n",
    "                seenPrefixSums[prefixSum] = i;\n",
    "            }\n",
    "        }\n",
    "\n",
    "        results.Add(beautifulCount);\n",
    "    }\n",
    "\n",
    "    return results;\n",
    "}\n",
    "\n",
    "public static void MainInput() \n",
    "{\n",
    "    int t = int.Parse(Console.ReadLine());\n",
    "    List<Tuple<int, int[]>> testCases = new List<Tuple<int, int[]>>();\n",
    "\n",
    "    for (int i = 0; i < t; i++) {\n",
    "        int n = int.Parse(Console.ReadLine());\n",
    "        int[] array = Array.ConvertAll(Console.ReadLine().Split(), int.Parse);\n",
    "        testCases.Add(new Tuple<int, int[]>(n, array));\n",
    "    }\n",
    "\n",
    "    List<int> results = MaxBeautifulSegments(t, testCases);\n",
    "    foreach (int result in results) {\n",
    "        Console.WriteLine(result);\n",
    "    }\n",
    "}\n",
    "MainInput();"
   ]
  },
  {
   "cell_type": "markdown",
   "metadata": {},
   "source": [
    "[64. Minimum Path Sum](https://leetcode.com/problems/minimum-path-sum/description/?envType=problem-list-v2&envId=55ac4kuc)"
   ]
  },
  {
   "cell_type": "code",
   "execution_count": null,
   "metadata": {
    "dotnet_interactive": {
     "language": "csharp"
    },
    "polyglot_notebook": {
     "kernelName": "csharp"
    },
    "vscode": {
     "languageId": "polyglot-notebook"
    }
   },
   "outputs": [
    {
     "name": "stdout",
     "output_type": "stream",
     "text": [
      "7\r\n"
     ]
    }
   ],
   "source": [
    " public int MinPathSum(int[][] grid) \n",
    "{\n",
    "    int m = grid.Length, n = grid[0].Length;\n",
    "    int[][] dp = new int[m][]; //2d jagged array\n",
    "\n",
    "    // Initialize each row with 'n' columns\n",
    "    for (int i = 0; i < m; i++)\n",
    "    {\n",
    "        dp[i] = new int[n];\n",
    "        Array.Fill(dp[i],-1); //Fill array with -1\n",
    "    }\n",
    "    return helper(grid,m-1,n-1,dp);\n",
    "}\n",
    "int helper(int[][] grid,int m , int n,int[][] dp)\n",
    "{\n",
    "    \n",
    "    if (m < 0 || n < 0)\n",
    "    {\n",
    "        return int.MaxValue;\n",
    "    }\n",
    "    if (m == 0 && n == 0)\n",
    "    {\n",
    "        return grid[0][0];\n",
    "    }\n",
    "\n",
    "    if (dp[m][n] != -1) return dp[m][n];\n",
    "\n",
    "\n",
    "    int left = helper(grid,m-1,n,dp);\n",
    "\n",
    "    int right = helper(grid,m,n-1,dp);\n",
    "\n",
    "    return dp[m][n] = grid[m][n] + Math.Min(left, right);\n",
    "}\n",
    "\n",
    "int[][] grid = { new[] { 1, 3, 1 }, new[] { 1, 5, 1 }, new[] { 4, 2, 1 } };;\n",
    "Console.WriteLine(MinPathSum(grid));"
   ]
  },
  {
   "cell_type": "markdown",
   "metadata": {},
   "source": []
  }
 ],
 "metadata": {
  "kernelspec": {
   "display_name": ".NET (C#)",
   "language": "C#",
   "name": ".net-csharp"
  },
  "language_info": {
   "name": "python"
  },
  "polyglot_notebook": {
   "kernelInfo": {
    "defaultKernelName": "csharp",
    "items": [
     {
      "aliases": [],
      "name": "csharp"
     }
    ]
   }
  }
 },
 "nbformat": 4,
 "nbformat_minor": 2
}
