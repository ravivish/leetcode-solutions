{
 "cells": [
  {
   "cell_type": "markdown",
   "metadata": {},
   "source": [
    "### Valid Parenthesis Problem"
   ]
  },
  {
   "cell_type": "code",
   "execution_count": 8,
   "metadata": {
    "dotnet_interactive": {
     "language": "csharp"
    },
    "polyglot_notebook": {
     "kernelName": "csharp"
    },
    "vscode": {
     "languageId": "polyglot-notebook"
    }
   },
   "outputs": [
    {
     "name": "stdout",
     "output_type": "stream",
     "text": [
      "False\r\n"
     ]
    }
   ],
   "source": [
    "bool isValid(string s) {\n",
    "    Stack<char> st = new Stack<char>();\n",
    "    foreach (char c in s) {\n",
    "        if (c == '(' || c == '{' || c == '[') {\n",
    "            st.Push(c);\n",
    "        } else {\n",
    "            if (st.Count == 0 || (c == ')' && st.Peek() != '(') || (c == '}' && st.Peek() != '{') || (c == ']' && st.Peek() != '[')) {\n",
    "                return false;\n",
    "            }\n",
    "            st.Pop();\n",
    "        }\n",
    "    }\n",
    "    return st.Count == 0;\n",
    "}\n",
    "\n",
    "Console.WriteLine(isValid(\"(}\"));"
   ]
  },
  {
   "cell_type": "code",
   "execution_count": null,
   "metadata": {
    "vscode": {
     "languageId": "polyglot-notebook"
    }
   },
   "outputs": [],
   "source": []
  }
 ],
 "metadata": {
  "kernelspec": {
   "display_name": ".NET (C#)",
   "language": "C#",
   "name": ".net-csharp"
  },
  "language_info": {
   "name": "python"
  },
  "polyglot_notebook": {
   "kernelInfo": {
    "defaultKernelName": "csharp",
    "items": [
     {
      "aliases": [],
      "name": "csharp"
     }
    ]
   }
  }
 },
 "nbformat": 4,
 "nbformat_minor": 2
}
