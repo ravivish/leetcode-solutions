{
 "cells": [
  {
   "cell_type": "markdown",
   "metadata": {},
   "source": [
    "### Valid Parenthesis Problem"
   ]
  },
  {
   "cell_type": "code",
   "execution_count": 8,
   "metadata": {
    "dotnet_interactive": {
     "language": "csharp"
    },
    "polyglot_notebook": {
     "kernelName": "csharp"
    },
    "vscode": {
     "languageId": "polyglot-notebook"
    }
   },
   "outputs": [
    {
     "name": "stdout",
     "output_type": "stream",
     "text": [
      "False\r\n"
     ]
    }
   ],
   "source": [
    "bool isValid(string s) {\n",
    "    Stack<char> st = new Stack<char>();\n",
    "    foreach (char c in s) {\n",
    "        if (c == '(' || c == '{' || c == '[') {\n",
    "            st.Push(c);\n",
    "        } else {\n",
    "            if (st.Count == 0 || (c == ')' && st.Peek() != '(') || (c == '}' && st.Peek() != '{') || (c == ']' && st.Peek() != '[')) {\n",
    "                return false;\n",
    "            }\n",
    "            st.Pop();\n",
    "        }\n",
    "    }\n",
    "    return st.Count == 0;\n",
    "}\n",
    "\n",
    "Console.WriteLine(isValid(\"(}\"));"
   ]
  },
  {
   "cell_type": "markdown",
   "metadata": {},
   "source": [
    "### [567. Permutation in String](https://leetcode.com/problems/permutation-in-string/description/)"
   ]
  },
  {
   "cell_type": "code",
   "execution_count": null,
   "metadata": {
    "dotnet_interactive": {
     "language": "csharp"
    },
    "polyglot_notebook": {
     "kernelName": "csharp"
    },
    "vscode": {
     "languageId": "polyglot-notebook"
    }
   },
   "outputs": [],
   "source": [
    "public bool CheckInclusion(string s1, string s2) {\n",
    "        if (s1.Length > s2.Length) return false;\n",
    "        \n",
    "        int[] s1Count = new int[26]; \n",
    "        int[] s2Count = new int[26]; \n",
    "        \n",
    "        \n",
    "        foreach (char c in s1) {\n",
    "            s1Count[c - 'a']++;\n",
    "        }\n",
    "        \n",
    "        \n",
    "        for (int i = 0; i < s1.Length; i++) {\n",
    "            s2Count[s2[i] - 'a']++;\n",
    "        }\n",
    "        //check if exact copy\n",
    "        if (Matches(s1Count, s2Count)) return true;\n",
    "        \n",
    "        for (int i = s1.Length; i < s2.Length; i++) {\n",
    "            s2Count[s2[i] - 'a']++;\n",
    "            s2Count[s2[i - s1.Length] - 'a']--;\n",
    "            \n",
    "            if (Matches(s1Count, s2Count)) return true;\n",
    "        }\n",
    "        \n",
    "        return false;\n",
    "    }\n",
    "private bool Matches(int[] s1Count, int[] s2Count) {\n",
    "    for (int i = 0; i < 26; i++) {\n",
    "        if (s1Count[i] != s2Count[i]) return false;\n",
    "    }\n",
    "    return true;\n",
    "}\n",
    "\n",
    "//call function\n",
    "Console.WriteLine(CheckInclusion(\"ab\", \"eidbaooo\"));\n",
    "Console.WriteLine(CheckInclusion(\"ab\", \"eidboaoo\"));"
   ]
  },
  {
   "cell_type": "markdown",
   "metadata": {},
   "source": [
    "### [Count Vowels](https://leetcode.com/problems/maximum-number-of-vowels-in-a-substring-of-given-length/description/)"
   ]
  },
  {
   "cell_type": "code",
   "execution_count": 7,
   "metadata": {
    "dotnet_interactive": {
     "language": "csharp"
    },
    "polyglot_notebook": {
     "kernelName": "csharp"
    },
    "vscode": {
     "languageId": "polyglot-notebook"
    }
   },
   "outputs": [
    {
     "name": "stdout",
     "output_type": "stream",
     "text": [
      "3\n",
      "2\n",
      "2\n"
     ]
    }
   ],
   "source": [
    "\n",
    "public int MaxVowels(string s, int k) {\n",
    "    int low = 0, high = 0;\n",
    "    int max = int.MinValue;\n",
    "    int vowelCount = 0;\n",
    "    while(high < s.Length)\n",
    "    {\n",
    "        if (high - low  + 1 < k)\n",
    "        {\n",
    "            if (IsVowel(s[high])) \n",
    "            {\n",
    "                vowelCount++;\n",
    "            }\n",
    "            high++;\n",
    "        }\n",
    "        else\n",
    "        {\n",
    "            if (IsVowel(s[high])) \n",
    "            {\n",
    "                vowelCount++;\n",
    "            }                \n",
    "            max = Math.Max(max,vowelCount);\n",
    "            if (IsVowel(s[low]))\n",
    "            {\n",
    "                vowelCount--;\n",
    "            }\n",
    "            low++;high++;\n",
    "        }\n",
    "    }\n",
    "    return max;\n",
    "}\n",
    "bool IsVowel(char s)\n",
    "{        \n",
    "    if (s == 'a' || s == 'e' || s == 'i' || s == 'o' || s == 'u') return true;\n",
    "    return false;\n",
    "}\n",
    "Console.WriteLine(MaxVowels(\"abciiidef\", 3));\n",
    "Console.WriteLine(MaxVowels(\"aeiou\", 2));\n",
    "Console.WriteLine(MaxVowels(\"leetcode\", 3));\n"
   ]
  },
  {
   "cell_type": "code",
   "execution_count": 6,
   "metadata": {
    "dotnet_interactive": {
     "language": "csharp"
    },
    "polyglot_notebook": {
     "kernelName": "csharp"
    },
    "vscode": {
     "languageId": "polyglot-notebook"
    }
   },
   "outputs": [],
   "source": []
  }
 ],
 "metadata": {
  "kernelspec": {
   "display_name": ".NET (C#)",
   "language": "C#",
   "name": ".net-csharp"
  },
  "language_info": {
   "name": "python"
  },
  "polyglot_notebook": {
   "kernelInfo": {
    "defaultKernelName": "csharp",
    "items": [
     {
      "aliases": [],
      "name": "csharp"
     }
    ]
   }
  }
 },
 "nbformat": 4,
 "nbformat_minor": 2
}
