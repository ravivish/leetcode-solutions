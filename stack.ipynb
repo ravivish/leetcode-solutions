{
 "cells": [
  {
   "cell_type": "markdown",
   "metadata": {},
   "source": [
    "### [496. Next Greater Element I](https://leetcode.com/problems/next-greater-element-i/description/)"
   ]
  },
  {
   "cell_type": "code",
   "execution_count": null,
   "metadata": {
    "dotnet_interactive": {
     "language": "csharp"
    },
    "polyglot_notebook": {
     "kernelName": "csharp"
    },
    "vscode": {
     "languageId": "polyglot-notebook"
    }
   },
   "outputs": [],
   "source": [
    "int[] NextGreaterElement(int[] nums1, int[] nums2) \n",
    "{\n",
    "    \n",
    "}\n",
    "\n",
    "int[] nums1 = {4,1,2}, nums2 = {1,3,4,2};\n",
    "Console.WriteLine(string.Join<int>(\",\",NextGreaterElement(nums1, nums2)));"
   ]
  }
 ],
 "metadata": {
  "kernelspec": {
   "display_name": ".NET (C#)",
   "language": "C#",
   "name": ".net-csharp"
  },
  "language_info": {
   "name": "python"
  },
  "polyglot_notebook": {
   "kernelInfo": {
    "defaultKernelName": "csharp",
    "items": [
     {
      "aliases": [],
      "name": "csharp"
     }
    ]
   }
  }
 },
 "nbformat": 4,
 "nbformat_minor": 2
}
