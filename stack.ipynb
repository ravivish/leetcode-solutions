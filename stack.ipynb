{
 "cells": [
  {
   "cell_type": "markdown",
   "metadata": {},
   "source": [
    "### [496. Next Greater Element I](https://leetcode.com/problems/next-greater-element-i/description/)"
   ]
  },
  {
   "cell_type": "code",
   "execution_count": null,
   "metadata": {
    "dotnet_interactive": {
     "language": "csharp"
    },
    "polyglot_notebook": {
     "kernelName": "csharp"
    },
    "vscode": {
     "languageId": "polyglot-notebook"
    }
   },
   "outputs": [
    {
     "name": "stdout",
     "output_type": "stream",
     "text": [
      "Data :1,2,-1 \n",
      "-1,1,2\n"
     ]
    }
   ],
   "source": [
    "int[] NextGreaterElement(int[] nums1, int[] nums2) \n",
    "{\n",
    "    //building monotonic stack\n",
    "    Stack<int> stack = new Stack<int>();\n",
    "    var nextGreater = new int[nums1.Length];\n",
    "    Array.Fill<int>(nextGreater, -1); //Fill array with -1>()\n",
    "    for(int i = 0; i < nums2.Length; i++)\n",
    "    {\n",
    "        while(stack.Count > 0 && nums2[stack.Peek()] < nums2[i])\n",
    "        {\n",
    "            var top = stack.Pop();\n",
    "            nextGreater[top] = i;\n",
    "        }\n",
    "        stack.Push(i);\n",
    "    }\n",
    "    Console.WriteLine(\"Data :{0} \",string.Join<int>(\",\",nextGreater));\n",
    "    return nums1.Select(x => nextGreater.Contains(x) ? x  : -1).ToArray();\n",
    "}\n",
    "\n",
    "int[] nums1 = {4,1,2}, nums2 = {1,3,4,2}; //[-1,3,-1]\n",
    "// int[] nums1 = {2,4}, nums2 = {1,2,3,4}; //[3,-1]\n",
    "// int[] nums1 = {2,1,3}, nums2 = {2,3,1}; //[3,-1]\n",
    "Console.WriteLine(string.Join<int>(\",\",NextGreaterElement(nums1, nums2)));"
   ]
  },
  {
   "cell_type": "markdown",
   "metadata": {},
   "source": [
    "### [] ()"
   ]
  },
  {
   "cell_type": "code",
   "execution_count": null,
   "metadata": {
    "dotnet_interactive": {
     "language": "csharp"
    },
    "polyglot_notebook": {
     "kernelName": "csharp"
    },
    "vscode": {
     "languageId": "polyglot-notebook"
    }
   },
   "outputs": [],
   "source": [
    "\n"
   ]
  }
 ],
 "metadata": {
  "kernelspec": {
   "display_name": ".NET (C#)",
   "language": "C#",
   "name": ".net-csharp"
  },
  "language_info": {
   "name": "python"
  },
  "polyglot_notebook": {
   "kernelInfo": {
    "defaultKernelName": "csharp",
    "items": [
     {
      "aliases": [],
      "name": "csharp"
     }
    ]
   }
  }
 },
 "nbformat": 4,
 "nbformat_minor": 2
}
