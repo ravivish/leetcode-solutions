{
 "cells": [
  {
   "cell_type": "markdown",
   "metadata": {},
   "source": [
    "### [2070. Most Beautiful Item for Each Query](https://leetcode.com/problems/most-beautiful-item-for-each-query/?envType=problem-list-v2&envId=m81nqdps)"
   ]
  },
  {
   "cell_type": "code",
   "execution_count": null,
   "metadata": {
    "dotnet_interactive": {
     "language": "csharp"
    },
    "polyglot_notebook": {
     "kernelName": "csharp"
    },
    "vscode": {
     "languageId": "polyglot-notebook"
    }
   },
   "outputs": [
    {
     "name": "stdout",
     "output_type": "stream",
     "text": [
      "2,4,5,5,6,6\r\n"
     ]
    }
   ],
   "source": [
    "public int[] MaximumBeauty(int[][] items, int[] queries) {\n",
    "    int[] ans = new int[queries.Length];\n",
    "\n",
    "    // Sort and store max beauty\n",
    "    Array.Sort(items, (a, b) => a[0] - b[0]);\n",
    "    int max = items[0][1];\n",
    "    for (int i = 0; i < items.Length; i++) {\n",
    "        max = Math.Max(max, items[i][1]);\n",
    "        items[i][1] = max;\n",
    "    }\n",
    "\n",
    "    for (int i = 0; i < queries.Length; i++) {\n",
    "        // answer i-th query\n",
    "        ans[i] = BinarySearch(items, queries[i]);\n",
    "    }\n",
    "\n",
    "    return ans;\n",
    "}\n",
    "\n",
    "private int BinarySearch(int[][] items, int targetPrice) {\n",
    "        int l = 0;\n",
    "        int r = items.Length - 1;\n",
    "        int maxBeauty = 0;\n",
    "        while (l <= r) {\n",
    "            int mid = (l + r) / 2;\n",
    "            if (items[mid][0] > targetPrice) {\n",
    "                r = mid - 1;\n",
    "            } else {\n",
    "                // Found viable price. Keep moving to right\n",
    "                maxBeauty = Math.Max(maxBeauty, items[mid][1]);\n",
    "                l = mid + 1;\n",
    "            }\n",
    "        }\n",
    "        return maxBeauty;\n",
    "    }\n",
    "\n",
    "\n",
    "\n",
    "//test code\n",
    "int[][] items = [[1,2],[3,2],[2,4],[5,6],[3,5]];\n",
    "int[] queries = new int[] { 1, 2,3,4,5,6 };\n",
    "// int[][] items = [[10,1000]];\n",
    "// int[] queries = new int[] { 5 };\n",
    "\n",
    "int[] res = MaximumBeauty(items, queries);\n",
    "Console.WriteLine(string.Join<int>(\",\", res));\n"
   ]
  },
  {
   "cell_type": "code",
   "execution_count": 7,
   "metadata": {
    "dotnet_interactive": {
     "language": "csharp"
    },
    "polyglot_notebook": {
     "kernelName": "csharp"
    },
    "vscode": {
     "languageId": "polyglot-notebook"
    }
   },
   "outputs": [
    {
     "name": "stdout",
     "output_type": "stream",
     "text": [
      "4\n",
      "5\n"
     ]
    }
   ],
   "source": [
    "//smallest element greater than target\n",
    "int UpperBound(List<int> list, int target) {\n",
    "    \n",
    "    int left = 0;\n",
    "    int right = list.Count - 1;\n",
    "    int ans = -1;\n",
    "    while (left <= right) {\n",
    "        int mid = left + (right - left) / 2;\n",
    "        if (list[mid] > target) {\n",
    "            ans = mid;\n",
    "            right = mid - 1;\n",
    "        } else {\n",
    "            left = mid + 1;\n",
    "        }\n",
    "    }\n",
    "    return ans;\n",
    "}\n",
    "\n",
    "//Smallest element greater than or equal to target\n",
    "int LowerBound(List<int> list, int target) {\n",
    "    \n",
    "    int left = 0;\n",
    "    int right = list.Count - 1;\n",
    "    int ans = -1;\n",
    "    while (left <= right) {\n",
    "        int mid = left + (right - left) / 2;\n",
    "        if (list[mid] >= target) {\n",
    "            ans = mid;\n",
    "            right = mid - 1;\n",
    "        } else {\n",
    "            left = mid + 1;\n",
    "        }\n",
    "    }\n",
    "    return ans;\n",
    "}\n",
    "\n",
    "var list = new List<int>(){1,2,3,4,6,7,8,9,10};\n",
    "Console.WriteLine(LowerBound(list, 5));\n",
    "\n",
    "var list1 = new List<int>(){1,2,3,4,6,7,8,9,10};\n",
    "Console.WriteLine(UpperBound(list1, 6));\n",
    "\n",
    "\n"
   ]
  }
 ],
 "metadata": {
  "kernelspec": {
   "display_name": ".NET (C#)",
   "language": "C#",
   "name": ".net-csharp"
  },
  "language_info": {
   "name": "python"
  },
  "polyglot_notebook": {
   "kernelInfo": {
    "defaultKernelName": "csharp",
    "items": [
     {
      "aliases": [],
      "name": "csharp"
     }
    ]
   }
  }
 },
 "nbformat": 4,
 "nbformat_minor": 2
}
