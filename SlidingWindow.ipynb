{
 "cells": [
  {
   "cell_type": "markdown",
   "metadata": {},
   "source": [
    "### Given an array arr[] and an integer K, the task is to calculate the sum of all subarrays of size K."
   ]
  },
  {
   "cell_type": "code",
   "execution_count": null,
   "metadata": {
    "dotnet_interactive": {
     "language": "csharp"
    },
    "polyglot_notebook": {
     "kernelName": "csharp"
    },
    "vscode": {
     "languageId": "polyglot-notebook"
    }
   },
   "outputs": [],
   "source": [
    "void SubArraySum(int[] arr, int k)\n",
    "{\n",
    "    int n = arr.Length;\n",
    "    int i = 0, j = 0; // Window indices\n",
    "    int sum = 0; // Current window sum\n",
    "\n",
    "    while (j < n)\n",
    "    {\n",
    "        if (j - i + 1 < k)\n",
    "        {\n",
    "            // Expand the window by adding element at index j to the sum\n",
    "            sum += arr[j];\n",
    "            j++;\n",
    "        }\n",
    "        else\n",
    "        {\n",
    "            // Window size is now equal to the desired window size\n",
    "            // Calculate the answer for the window\n",
    "            sum += arr[j];\n",
    "            Console.WriteLine(sum);\n",
    "\n",
    "            // Move the window by incrementing indices i and j\n",
    "            sum -= arr[i];\n",
    "            i++; j++;\n",
    "        }\n",
    "    }\n",
    "}\n",
    "\n",
    "int[] arr = {1, 2, 3, 4, 5};\n",
    "int k = 3;\n",
    "SubArraySum(arr, k);"
   ]
  },
  {
   "cell_type": "markdown",
   "metadata": {},
   "source": [
    "### [1423. Maximum Points You Can Obtain from Cards](https://leetcode.com/problems/maximum-points-you-can-obtain-from-cards/description/)"
   ]
  },
  {
   "cell_type": "code",
   "execution_count": null,
   "metadata": {
    "vscode": {
     "languageId": "polyglot-notebook"
    }
   },
   "outputs": [],
   "source": [
    "public static int MaxScore(int[] nums, int k)\n",
    "{\n",
    "\n",
    "    int n = nums.Length;\n",
    "\n",
    "    // Prefix and Suffix sums\n",
    "    int[] prefixSum = new int[k + 1];\n",
    "    int[] suffixSum = new int[k + 1];\n",
    "\n",
    "    // Fill prefixSum for the first k elements\n",
    "    for (int i = 0; i < k; i++)\n",
    "    {\n",
    "        prefixSum[i + 1] = prefixSum[i] + nums[i];\n",
    "        suffixSum[i + 1] = suffixSum[i] + nums[n - 1 - i];\n",
    "    }\n",
    "\n",
    "    // Fill suffixSum for the last k elements\n",
    "    // for (int i = 0; i < k; i++) {\n",
    "    // }\n",
    "\n",
    "    // Now we try every combination of taking `i` elements from the front and `k-i` from the back\n",
    "    int maxScore = 0;\n",
    "    for (int i = 0; i <= k; i++)\n",
    "    {\n",
    "        maxScore = Math.Max(maxScore, prefixSum[i] + suffixSum[k - i]);\n",
    "    }\n",
    "    return maxScore;\n",
    "}\n",
    "Console.WriteLine(MaxScore([1, 2, 3, 4, 5, 6, 1], 3));\n",
    "Console.WriteLine(MaxScore([2, 2, 2], 2));\n",
    "Console.WriteLine(MaxScore([9, 7, 7, 9, 7, 7, 9], 7));"
   ]
  }
 ],
 "metadata": {
  "kernelspec": {
   "display_name": ".NET (C#)",
   "language": "C#",
   "name": ".net-csharp"
  },
  "language_info": {
   "name": "python"
  },
  "polyglot_notebook": {
   "kernelInfo": {
    "defaultKernelName": "csharp",
    "items": [
     {
      "aliases": [],
      "name": "csharp"
     }
    ]
   }
  }
 },
 "nbformat": 4,
 "nbformat_minor": 2
}
