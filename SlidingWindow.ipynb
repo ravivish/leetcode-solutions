{
 "cells": [
  {
   "cell_type": "markdown",
   "metadata": {},
   "source": [
    "### Given an array arr[] and an integer K, the task is to calculate the sum of all subarrays of size K."
   ]
  },
  {
   "cell_type": "code",
   "execution_count": null,
   "metadata": {
    "dotnet_interactive": {
     "language": "csharp"
    },
    "polyglot_notebook": {
     "kernelName": "csharp"
    },
    "vscode": {
     "languageId": "polyglot-notebook"
    }
   },
   "outputs": [],
   "source": [
    "void SubArraySum(int[] arr, int k)\n",
    "{\n",
    "    int n = arr.Length;\n",
    "    int i = 0, j = 0; // Window indices\n",
    "    int sum = 0; // Current window sum\n",
    "\n",
    "    while (j < n)\n",
    "    {\n",
    "        if (j - i + 1 < k)\n",
    "        {\n",
    "            // Expand the window by adding element at index j to the sum\n",
    "            sum += arr[j];\n",
    "            j++;\n",
    "        }\n",
    "        else\n",
    "        {\n",
    "            // Window size is now equal to the desired window size\n",
    "            // Calculate the answer for the window\n",
    "            sum += arr[j];\n",
    "            Console.WriteLine(sum);\n",
    "\n",
    "            // Move the window by incrementing indices i and j\n",
    "            sum -= arr[i];\n",
    "            i++; j++;\n",
    "        }\n",
    "    }\n",
    "}\n",
    "\n",
    "int[] arr = {1, 2, 3, 4, 5};\n",
    "int k = 3;\n",
    "SubArraySum(arr, k);"
   ]
  },
  {
   "cell_type": "markdown",
   "metadata": {},
   "source": []
  }
 ],
 "metadata": {
  "kernelspec": {
   "display_name": ".NET (C#)",
   "language": "C#",
   "name": ".net-csharp"
  },
  "language_info": {
   "name": "python"
  },
  "polyglot_notebook": {
   "kernelInfo": {
    "defaultKernelName": "csharp",
    "items": [
     {
      "aliases": [],
      "name": "csharp"
     }
    ]
   }
  }
 },
 "nbformat": 4,
 "nbformat_minor": 2
}
